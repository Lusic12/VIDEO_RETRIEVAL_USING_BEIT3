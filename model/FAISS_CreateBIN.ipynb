{
  "nbformat": 4,
  "nbformat_minor": 0,
  "metadata": {
    "colab": {
      "provenance": []
    },
    "kernelspec": {
      "name": "python3",
      "display_name": "Python 3"
    },
    "language_info": {
      "name": "python"
    }
  },
  "cells": [
    {
      "cell_type": "code",
      "execution_count": 2,
      "metadata": {
        "colab": {
          "base_uri": "https://localhost:8080/"
        },
        "id": "FC3HscUDrGzt",
        "outputId": "18899e46-cfea-4acd-ef2e-b29f00398dc5"
      },
      "outputs": [
        {
          "output_type": "stream",
          "name": "stdout",
          "text": [
            "Requirement already satisfied: faiss-cpu in /usr/local/lib/python3.10/dist-packages (1.8.0.post1)\n",
            "Requirement already satisfied: numpy<2.0,>=1.0 in /usr/local/lib/python3.10/dist-packages (from faiss-cpu) (1.26.4)\n",
            "Requirement already satisfied: packaging in /usr/local/lib/python3.10/dist-packages (from faiss-cpu) (24.1)\n"
          ]
        }
      ],
      "source": [
        "!pip install faiss-cpu"
      ]
    },
    {
      "cell_type": "code",
      "source": [
        "import json\n",
        "import numpy as np\n",
        "import faiss\n",
        "import os\n",
        "from PIL import Image\n",
        "import matplotlib.pyplot as plt\n",
        "import concurrent.futures\n",
        "import time\n",
        "import re\n",
        "from IPython.display import display, Image as IPImage"
      ],
      "metadata": {
        "id": "bh_HRc1OrIQw"
      },
      "execution_count": 53,
      "outputs": []
    },
    {
      "cell_type": "code",
      "source": [
        "def create_faiss_index_from_json(json_file_path):\n",
        "    \"\"\"\n",
        "    Create a FlatIP FAISS index binary file from a JSON file containing feature vectors.\n",
        "    The binary file will be saved in the same directory as the JSON file with the name 'faiss_frame_embedding_cosine.bin'.\n",
        "\n",
        "    Args:\n",
        "        json_file_path (str): Path to the JSON file containing feature vectors.\n",
        "    \"\"\"\n",
        "    # Determine the directory and output file path\n",
        "    directory = os.path.dirname(json_file_path)\n",
        "    bin_file_path = os.path.join(directory, 'faiss_frame_embedding_cosine.bin')\n",
        "\n",
        "    # Initialize variables\n",
        "    vectors = []\n",
        "    dimension = None  # To be determined from the first vector\n",
        "\n",
        "    # Read vectors from the JSON file line by line\n",
        "    with open(json_file_path, 'r') as file:\n",
        "        for line in file:\n",
        "            try:\n",
        "                entry = json.loads(line.strip())\n",
        "                embedding = entry.get('frame_embedding')[0]\n",
        "\n",
        "                # Determine the dimension from the first vector\n",
        "                if dimension is None:\n",
        "                    dimension = len(embedding)\n",
        "\n",
        "                # Normalize the vector for cosine similarity\n",
        "                embedding = np.array(embedding, dtype='float32')\n",
        "                norm = np.linalg.norm(embedding)\n",
        "                if norm != 0:\n",
        "                    embedding /= norm\n",
        "\n",
        "                # Append the normalized vector to the list\n",
        "                vectors.append(embedding)\n",
        "\n",
        "            except json.JSONDecodeError as e:\n",
        "                print(f\"Error decoding JSON line: {e}\")\n",
        "\n",
        "    # Convert list of vectors to a NumPy array\n",
        "    vectors = np.array(vectors, dtype='float32')\n",
        "\n",
        "    # Check if vectors are loaded correctly\n",
        "    if vectors.size == 0:\n",
        "        raise ValueError(\"No valid vectors found in JSON file.\")\n",
        "\n",
        "    # Create a FlatIP FAISS index using cosine similarity\n",
        "    index = faiss.IndexFlatIP(dimension)\n",
        "\n",
        "    # Add all vectors to the index at once\n",
        "    index.add(vectors)\n",
        "\n",
        "    # Save FAISS index to binary file\n",
        "    faiss.write_index(index, bin_file_path)\n",
        "    print(f\"FAISS FlatIP index saved to {bin_file_path}\")\n",
        "\n"
      ],
      "metadata": {
        "id": "tkIQ9BBcrJUp"
      },
      "execution_count": 28,
      "outputs": []
    },
    {
      "cell_type": "code",
      "source": [
        "create_faiss_index_from_json('/content/drive/MyDrive/Frame Embedding/frame_embeddings.json')"
      ],
      "metadata": {
        "id": "M7ZXvW80rLH3"
      },
      "execution_count": null,
      "outputs": []
    }
  ]
}